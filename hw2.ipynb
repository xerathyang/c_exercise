{
 "cells": [
  {
   "cell_type": "code",
   "execution_count": 1,
   "metadata": {},
   "outputs": [],
   "source": [
    "import pandas as pd\n",
    "import numpy as np\n",
    "import matplotlib.pyplot as plt\n",
    "from sklearn.cluster import KMeans\n",
    "from sklearn.metrics import silhouette_score\n",
    "from sklearn.decomposition import PCA"
   ]
  },
  {
   "cell_type": "code",
   "execution_count": 2,
   "metadata": {
    "scrolled": false
   },
   "outputs": [
    {
     "data": {
      "text/html": [
       "<div>\n",
       "<style scoped>\n",
       "    .dataframe tbody tr th:only-of-type {\n",
       "        vertical-align: middle;\n",
       "    }\n",
       "\n",
       "    .dataframe tbody tr th {\n",
       "        vertical-align: top;\n",
       "    }\n",
       "\n",
       "    .dataframe thead th {\n",
       "        text-align: right;\n",
       "    }\n",
       "</style>\n",
       "<table border=\"1\" class=\"dataframe\">\n",
       "  <thead>\n",
       "    <tr style=\"text-align: right;\">\n",
       "      <th></th>\n",
       "      <th>feature1</th>\n",
       "      <th>feature2</th>\n",
       "      <th>feature3</th>\n",
       "      <th>feature4</th>\n",
       "      <th>feature5</th>\n",
       "      <th>feature6</th>\n",
       "      <th>feature7</th>\n",
       "      <th>feature8</th>\n",
       "      <th>feature9</th>\n",
       "      <th>feature10</th>\n",
       "      <th>feature11</th>\n",
       "      <th>feature12</th>\n",
       "      <th>feature13</th>\n",
       "      <th>feature14</th>\n",
       "      <th>feature15</th>\n",
       "      <th>feature16</th>\n",
       "      <th>feature17</th>\n",
       "      <th>feature18</th>\n",
       "      <th>feature19</th>\n",
       "    </tr>\n",
       "    <tr>\n",
       "      <th>id</th>\n",
       "      <th></th>\n",
       "      <th></th>\n",
       "      <th></th>\n",
       "      <th></th>\n",
       "      <th></th>\n",
       "      <th></th>\n",
       "      <th></th>\n",
       "      <th></th>\n",
       "      <th></th>\n",
       "      <th></th>\n",
       "      <th></th>\n",
       "      <th></th>\n",
       "      <th></th>\n",
       "      <th></th>\n",
       "      <th></th>\n",
       "      <th></th>\n",
       "      <th></th>\n",
       "      <th></th>\n",
       "      <th></th>\n",
       "    </tr>\n",
       "  </thead>\n",
       "  <tbody>\n",
       "    <tr>\n",
       "      <th>0</th>\n",
       "      <td>97</td>\n",
       "      <td>123</td>\n",
       "      <td>9</td>\n",
       "      <td>0.000000</td>\n",
       "      <td>0.0</td>\n",
       "      <td>1.555555</td>\n",
       "      <td>1.096294</td>\n",
       "      <td>13.222221</td>\n",
       "      <td>108.740740</td>\n",
       "      <td>52.814816</td>\n",
       "      <td>48.000000</td>\n",
       "      <td>64.111115</td>\n",
       "      <td>46.333332</td>\n",
       "      <td>-14.444445</td>\n",
       "      <td>33.888890</td>\n",
       "      <td>-19.444445</td>\n",
       "      <td>64.111115</td>\n",
       "      <td>0.280593</td>\n",
       "      <td>-1.994105</td>\n",
       "    </tr>\n",
       "    <tr>\n",
       "      <th>1</th>\n",
       "      <td>37</td>\n",
       "      <td>189</td>\n",
       "      <td>9</td>\n",
       "      <td>0.000000</td>\n",
       "      <td>0.0</td>\n",
       "      <td>1.388889</td>\n",
       "      <td>1.485184</td>\n",
       "      <td>5.722223</td>\n",
       "      <td>23.885176</td>\n",
       "      <td>30.000000</td>\n",
       "      <td>27.111110</td>\n",
       "      <td>36.333336</td>\n",
       "      <td>26.555555</td>\n",
       "      <td>-8.666667</td>\n",
       "      <td>19.000000</td>\n",
       "      <td>-10.333333</td>\n",
       "      <td>36.333336</td>\n",
       "      <td>0.265248</td>\n",
       "      <td>-2.050282</td>\n",
       "    </tr>\n",
       "    <tr>\n",
       "      <th>2</th>\n",
       "      <td>148</td>\n",
       "      <td>169</td>\n",
       "      <td>9</td>\n",
       "      <td>0.111111</td>\n",
       "      <td>0.0</td>\n",
       "      <td>1.055555</td>\n",
       "      <td>0.774073</td>\n",
       "      <td>1.833333</td>\n",
       "      <td>2.611110</td>\n",
       "      <td>19.592592</td>\n",
       "      <td>15.111111</td>\n",
       "      <td>18.666668</td>\n",
       "      <td>25.000000</td>\n",
       "      <td>-13.444445</td>\n",
       "      <td>-2.777778</td>\n",
       "      <td>16.222221</td>\n",
       "      <td>25.000000</td>\n",
       "      <td>0.396121</td>\n",
       "      <td>2.467752</td>\n",
       "    </tr>\n",
       "    <tr>\n",
       "      <th>3</th>\n",
       "      <td>95</td>\n",
       "      <td>57</td>\n",
       "      <td>9</td>\n",
       "      <td>0.000000</td>\n",
       "      <td>0.0</td>\n",
       "      <td>1.833333</td>\n",
       "      <td>3.411111</td>\n",
       "      <td>2.111111</td>\n",
       "      <td>1.718517</td>\n",
       "      <td>26.296297</td>\n",
       "      <td>24.666666</td>\n",
       "      <td>34.444447</td>\n",
       "      <td>19.777779</td>\n",
       "      <td>-4.888889</td>\n",
       "      <td>24.444445</td>\n",
       "      <td>-19.555555</td>\n",
       "      <td>34.444447</td>\n",
       "      <td>0.425691</td>\n",
       "      <td>-1.739017</td>\n",
       "    </tr>\n",
       "    <tr>\n",
       "      <th>4</th>\n",
       "      <td>200</td>\n",
       "      <td>189</td>\n",
       "      <td>9</td>\n",
       "      <td>0.000000</td>\n",
       "      <td>0.0</td>\n",
       "      <td>1.111111</td>\n",
       "      <td>1.088662</td>\n",
       "      <td>3.166667</td>\n",
       "      <td>1.005541</td>\n",
       "      <td>49.666668</td>\n",
       "      <td>45.111110</td>\n",
       "      <td>60.888890</td>\n",
       "      <td>43.000000</td>\n",
       "      <td>-13.666667</td>\n",
       "      <td>33.666668</td>\n",
       "      <td>-20.000000</td>\n",
       "      <td>60.888890</td>\n",
       "      <td>0.293810</td>\n",
       "      <td>-1.973221</td>\n",
       "    </tr>\n",
       "  </tbody>\n",
       "</table>\n",
       "</div>"
      ],
      "text/plain": [
       "    feature1  feature2  feature3  feature4  feature5  feature6  feature7  \\\n",
       "id                                                                         \n",
       "0         97       123         9  0.000000       0.0  1.555555  1.096294   \n",
       "1         37       189         9  0.000000       0.0  1.388889  1.485184   \n",
       "2        148       169         9  0.111111       0.0  1.055555  0.774073   \n",
       "3         95        57         9  0.000000       0.0  1.833333  3.411111   \n",
       "4        200       189         9  0.000000       0.0  1.111111  1.088662   \n",
       "\n",
       "     feature8    feature9  feature10  feature11  feature12  feature13  \\\n",
       "id                                                                      \n",
       "0   13.222221  108.740740  52.814816  48.000000  64.111115  46.333332   \n",
       "1    5.722223   23.885176  30.000000  27.111110  36.333336  26.555555   \n",
       "2    1.833333    2.611110  19.592592  15.111111  18.666668  25.000000   \n",
       "3    2.111111    1.718517  26.296297  24.666666  34.444447  19.777779   \n",
       "4    3.166667    1.005541  49.666668  45.111110  60.888890  43.000000   \n",
       "\n",
       "    feature14  feature15  feature16  feature17  feature18  feature19  \n",
       "id                                                                    \n",
       "0  -14.444445  33.888890 -19.444445  64.111115   0.280593  -1.994105  \n",
       "1   -8.666667  19.000000 -10.333333  36.333336   0.265248  -2.050282  \n",
       "2  -13.444445  -2.777778  16.222221  25.000000   0.396121   2.467752  \n",
       "3   -4.888889  24.444445 -19.555555  34.444447   0.425691  -1.739017  \n",
       "4  -13.666667  33.666668 -20.000000  60.888890   0.293810  -1.973221  "
      ]
     },
     "execution_count": 2,
     "metadata": {},
     "output_type": "execute_result"
    }
   ],
   "source": [
    "csv_data=\"C:/datascience/data2.csv\"\n",
    "df=pd.read_csv(csv_data)\n",
    "df.set_index(\"id\",inplace=True)\n",
    "df.head()"
   ]
  },
  {
   "cell_type": "code",
   "execution_count": 3,
   "metadata": {},
   "outputs": [
    {
     "data": {
      "text/plain": [
       "array([[ 35.27044852, -25.50132464],\n",
       "       [-48.53526094, -78.5812451 ],\n",
       "       [-57.86715044,  30.17817051],\n",
       "       [  1.66587531, -36.18639418],\n",
       "       [ 11.54906356,  78.82273376]])"
      ]
     },
     "execution_count": 3,
     "metadata": {},
     "output_type": "execute_result"
    }
   ],
   "source": [
    "pca=PCA(n_components=2)\n",
    "pca.fit(df[1:])\n",
    "df_pca=pca.transform(df)\n",
    "df_pca[:5]"
   ]
  },
  {
   "cell_type": "code",
   "execution_count": 4,
   "metadata": {},
   "outputs": [
    {
     "name": "stdout",
     "output_type": "stream",
     "text": [
      "(2100, 19)\n",
      "(2100, 2)\n"
     ]
    }
   ],
   "source": [
    "print(df.shape)\n",
    "print(df_pca.shape)"
   ]
  },
  {
   "cell_type": "code",
   "execution_count": 5,
   "metadata": {},
   "outputs": [
    {
     "data": {
      "text/plain": [
       "<matplotlib.collections.PathCollection at 0x1b77dcdcb38>"
      ]
     },
     "execution_count": 5,
     "metadata": {},
     "output_type": "execute_result"
    },
    {
     "data": {
      "image/png": "[encoded data removed]",
      "text/plain": [
       "<Figure size 432x288 with 1 Axes>"
      ]
     },
     "metadata": {
      "needs_background": "light"
     },
     "output_type": "display_data"
    }
   ],
   "source": [
    "plt.scatter(df_pca[:,0],df_pca[:,1])"
   ]
  },
  {
   "cell_type": "code",
   "execution_count": 6,
   "metadata": {},
   "outputs": [],
   "source": [
    "def calculate_WSS(points, kmax):\n",
    "  sse = []\n",
    "  for k in range(1, kmax+1):\n",
    "    kmeans = KMeans(n_clusters = k).fit(points)\n",
    "    centroids = kmeans.cluster_centers_\n",
    "    pred_clusters = kmeans.predict(points)\n",
    "    curr_sse = 0\n",
    "    \n",
    "    # calculate square of Euclidean distance of each point from its cluster center and add to current WSS\n",
    "    for i in range(len(points)):\n",
    "      curr_center = centroids[pred_clusters[i]]\n",
    "      curr_sse += (points[i, 0] - curr_center[0]) ** 2 + (points[i, 1] - curr_center[1]) ** 2\n",
    "      \n",
    "    sse.append(curr_sse)\n",
    "  return sse"
   ]
  },
  {
   "cell_type": "code",
   "execution_count": 7,
   "metadata": {},
   "outputs": [
    {
     "data": {
      "text/plain": [
       "[<matplotlib.lines.Line2D at 0x1b77dda1390>]"
      ]
     },
     "execution_count": 7,
     "metadata": {},
     "output_type": "execute_result"
    },
    {
     "data": {
      "image/png": "[encoded data removed]",
      "text/plain": [
       "<Figure size 432x288 with 1 Axes>"
      ]
     },
     "metadata": {
      "needs_background": "light"
     },
     "output_type": "display_data"
    }
   ],
   "source": [
    "sse=calculate_WSS(df_pca,15)\n",
    "plt.plot(sse)"
   ]
  },
  {
   "cell_type": "code",
   "execution_count": 8,
   "metadata": {},
   "outputs": [
    {
     "data": {
      "text/plain": [
       "[<matplotlib.lines.Line2D at 0x1b77de11978>]"
      ]
     },
     "execution_count": 8,
     "metadata": {},
     "output_type": "execute_result"
    },
    {
     "data": {
      "image/png": "[encoded data removed]",
      "text/plain": [
       "<Figure size 432x288 with 1 Axes>"
      ]
     },
     "metadata": {
      "needs_background": "light"
     },
     "output_type": "display_data"
    }
   ],
   "source": [
    "sil=[]\n",
    "kmax=15\n",
    "for k in range(3,kmax+1):\n",
    "    kmeans=KMeans(n_clusters=k).fit(df_pca)\n",
    "    labels=kmeans.labels_\n",
    "    sil.append(silhouette_score(df_pca,labels,metric='euclidean'))\n",
    "plt.plot(sil)"
   ]
  },
  {
   "cell_type": "code",
   "execution_count": 9,
   "metadata": {},
   "outputs": [
    {
     "data": {
      "text/plain": [
       "<matplotlib.collections.PathCollection at 0x1b70103c080>"
      ]
     },
     "execution_count": 9,
     "metadata": {},
     "output_type": "execute_result"
    },
    {
     "data": {
      "image/png": "[encoded data removed]",
      "text/plain": [
       "<Figure size 432x288 with 1 Axes>"
      ]
     },
     "metadata": {
      "needs_background": "light"
     },
     "output_type": "display_data"
    }
   ],
   "source": [
    "kmeans=KMeans(n_clusters=8)\n",
    "kmeans.fit(df_pca)\n",
    "y=kmeans.predict(df_pca)\n",
    "plt.scatter(df_pca[:,0],df_pca[:,1],c=y,s=200,cmap='viridis')\n",
    "center=kmeans.cluster_centers_\n",
    "plt.scatter(center[:,0],center[:,1],c='black',s=200,alpha=0.5)"
   ]
  },
  {
   "cell_type": "code",
   "execution_count": 10,
   "metadata": {},
   "outputs": [
    {
     "data": {
      "text/plain": [
       "(2100,)"
      ]
     },
     "execution_count": 10,
     "metadata": {},
     "output_type": "execute_result"
    }
   ],
   "source": [
    "y.shape"
   ]
  },
  {
   "cell_type": "code",
   "execution_count": 26,
   "metadata": {},
   "outputs": [],
   "source": [
    "test=pd.read_csv(\"C:/datascience/test2.csv\")\n",
    "ans=np.zeros(shape=(400,2))\n",
    "for i in test['index']:\n",
    "    tar1=test.at[i,'0']\n",
    "    tar2=test.at[i,'1']\n",
    "    if y[tar1]==y[tar2]:\n",
    "        a=[1]\n",
    "        np.append(ans,[i,1])\n",
    "    else:\n",
    "        a=[0]\n",
    "        np.append(ans,[i,0])"
   ]
  },
  {
   "cell_type": "code",
   "execution_count": 33,
   "metadata": {},
   "outputs": [
    {
     "data": {
      "text/plain": [
       "2"
      ]
     },
     "execution_count": 33,
     "metadata": {},
     "output_type": "execute_result"
    }
   ],
   "source": [
    "y[tar1]"
   ]
  },
  {
   "cell_type": "code",
   "execution_count": null,
   "metadata": {},
   "outputs": [],
   "source": []
  }
 ],
 "metadata": {
  "kernelspec": {
   "display_name": "Python 3",
   "language": "python",
   "name": "python3"
  },
  "language_info": {
   "codemirror_mode": {
    "name": "ipython",
    "version": 3
   },
   "file_extension": ".py",
   "mimetype": "text/x-python",
   "name": "python",
   "nbconvert_exporter": "python",
   "pygments_lexer": "ipython3",
   "version": "3.7.3"
  }
 },
 "nbformat": 4,
 "nbformat_minor": 2
}
