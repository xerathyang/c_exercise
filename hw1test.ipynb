{
 "cells": [
  {
   "cell_type": "code",
   "execution_count": 1,
   "metadata": {},
   "outputs": [],
   "source": [
    "import pandas as pd\n",
    "import numpy as np\n",
    "from sklearn.linear_model import LogisticRegression\n",
    "from sklearn import preprocessing\n",
    "import seaborn as sns\n",
    "import matplotlib.pyplot as plt\n",
    "csv_trainfile =\"C:/datascience/train.csv\"\n",
    "csv_testfile=\"C:/datascience/test.csv\"\n",
    "df=pd.read_csv(csv_trainfile)\n",
    "test=pd.read_csv(csv_testfile)\n",
    "df.drop([\"Attribute1\",\"Attribute6\",\"Attribute7\",\"Attribute10\",\"Attribute11\",\"Attribute18\",\"Attribute19\"],axis=1)\n",
    "test.drop([\"Attribute1\",\"Attribute6\",\"Attribute7\",\"Attribute10\",\"Attribute11\",\"Attribute18\",\"Attribute19\"],axis=1)\n",
    "def swap(x):\n",
    "    if x[0]==\"N\":\n",
    "        return 1\n",
    "    else:\n",
    "        return 0\n",
    "def swap2(x):\n",
    "    if x[0]==\"S\":\n",
    "        return 1\n",
    "    else:\n",
    "        return 0\n",
    "def swap3(x):\n",
    "    if x[0]==\"w\":\n",
    "        return 1\n",
    "    else:\n",
    "        return 0\n",
    "def dswap(x):\n",
    "    if len(x)==1:\n",
    "        return 0\n",
    "    else:\n",
    "        if x[-1:]==\"N\":\n",
    "            return 1\n",
    "        else:\n",
    "            return 0\n",
    "def dswap1(x):\n",
    "    if len(x)==1:\n",
    "        return 0\n",
    "    else:\n",
    "        if x[-1:]==\"E\":\n",
    "            return 1\n",
    "        else:\n",
    "            return 0\n",
    "def dswap2(x):\n",
    "    if len(x)==1:\n",
    "        return 0\n",
    "    else:\n",
    "        if x[-1:]==\"S\":\n",
    "            return 1\n",
    "        else:\n",
    "            return 0\n",
    "def dswap3(x):\n",
    "    if len(x)==1:\n",
    "        return 0\n",
    "    else:\n",
    "        if x[-1:]==\"W\":\n",
    "            return 1\n",
    "        else:\n",
    "            return 0\n",
    "\n",
    "df.dropna(inplace=True)\n",
    "df.reset_index(drop=True,inplace=True)\n",
    "df[\"mN\"]=df[\"Attribute8\"].apply(swap)\n",
    "df[\"mS\"]=df[\"Attribute8\"].apply(swap2)\n",
    "df[\"mW\"]=df[\"Attribute8\"].apply(swap3)\n",
    "df[\"nN\"]=df[\"Attribute8\"].apply(dswap)\n",
    "df[\"nE\"]=df[\"Attribute8\"].apply(dswap1)\n",
    "df[\"nS\"]=df[\"Attribute8\"].apply(dswap2)\n",
    "df[\"nW\"]=df[\"Attribute8\"].apply(dswap3)\n",
    "df.replace(\"Yes\",1,inplace=True)\n",
    "df.replace(\"No\",0,inplace=True)\n",
    "test.dropna(inplace=True)\n",
    "test.reset_index(drop=True,inplace=True)\n",
    "test[\"mN\"]=test[\"Attribute8\"].apply(swap)\n",
    "test[\"mS\"]=test[\"Attribute8\"].apply(swap2)\n",
    "test[\"mW\"]=test[\"Attribute8\"].apply(swap3)\n",
    "test[\"nN\"]=test[\"Attribute8\"].apply(dswap)\n",
    "test[\"nE\"]=test[\"Attribute8\"].apply(dswap1)\n",
    "test[\"nS\"]=test[\"Attribute8\"].apply(dswap2)\n",
    "test[\"nW\"]=test[\"Attribute8\"].apply(dswap3)\n",
    "test.replace(\"Yes\",1,inplace=True)\n",
    "test.replace(\"No\",0,inplace=True)"
   ]
  },
  {
   "cell_type": "code",
   "execution_count": 2,
   "metadata": {
    "scrolled": true
   },
   "outputs": [],
   "source": [
    "x=df.drop([\"Attribute1\",\"Attribute8\",\"Attribute10\",\"Attribute11\",\"Attribute23\"],axis=1)\n",
    "y=df[\"Attribute23\"]\n",
    "proctest=test.drop([\"Attribute1\",\"Attribute8\",\"Attribute10\",\"Attribute11\"],axis=1)"
   ]
  },
  {
   "cell_type": "code",
   "execution_count": 3,
   "metadata": {},
   "outputs": [
    {
     "data": {
      "text/plain": [
       "LogisticRegression(C=1.0, class_weight=None, dual=False, fit_intercept=True,\n",
       "                   intercept_scaling=1, l1_ratio=None, max_iter=10000,\n",
       "                   multi_class='warn', n_jobs=None, penalty='l2',\n",
       "                   random_state=None, solver='lbfgs', tol=0.0001, verbose=0,\n",
       "                   warm_start=False)"
      ]
     },
     "execution_count": 3,
     "metadata": {},
     "output_type": "execute_result"
    }
   ],
   "source": [
    "lr=LogisticRegression(solver=\"lbfgs\",max_iter=10000)\n",
    "lr.fit(x,y)"
   ]
  },
  {
   "cell_type": "code",
   "execution_count": 4,
   "metadata": {},
   "outputs": [],
   "source": [
    "ans=lr.predict(proctest)"
   ]
  },
  {
   "cell_type": "code",
   "execution_count": 5,
   "metadata": {},
   "outputs": [
    {
     "data": {
      "text/plain": [
       "array([0, 1, 0, 0, 0, 0, 0, 0, 1, 1, 1, 1, 1, 1, 0, 0, 0, 1, 1, 1, 1, 0,\n",
       "       1, 0, 0, 0, 0, 0, 0, 1, 0, 0, 0, 1, 0, 0, 1, 0, 0, 0, 0, 0, 0, 0,\n",
       "       0, 1, 0, 0, 0, 0, 0, 0, 0, 0, 1, 1, 1, 0, 0, 0, 0, 0, 1, 1, 0, 0,\n",
       "       1, 1, 1, 0, 0, 0, 0, 0, 0, 0, 0, 0, 0, 1, 0, 1, 0, 0, 0, 1, 0, 1,\n",
       "       0, 0, 1, 0, 0, 0, 0, 0, 0, 0, 0, 0, 0, 1, 0, 0, 0, 0, 0, 0, 1, 0,\n",
       "       0, 0, 0, 0, 0, 0, 0, 1, 1, 1, 1, 1, 0, 0, 1, 0, 1, 1, 0, 0, 0, 0,\n",
       "       0, 0, 0, 1, 1, 1, 1, 0, 0, 0, 1, 0, 0, 0, 0, 1, 1, 0, 0, 0, 0, 0,\n",
       "       0, 0, 1, 1, 0, 0, 0, 0, 0, 0, 0, 0, 0, 0, 1, 1, 0, 0, 0, 0, 1, 0,\n",
       "       0, 0, 0, 0, 1, 1, 0, 1, 1, 0, 0, 0, 0, 0, 0, 0, 1, 0, 0, 0, 1, 0,\n",
       "       1, 0, 0, 0, 0, 0, 0, 0, 0, 0, 0, 1, 0, 0, 1, 0, 0, 0, 1, 1, 0, 0,\n",
       "       0, 0, 1, 1, 1, 1, 0, 0, 1, 1, 0, 0, 0, 0, 0, 0, 0, 0, 1, 0, 1, 1,\n",
       "       0, 0, 0, 0, 0, 0, 0, 0, 0, 1, 0, 0, 1, 0, 0, 0, 0, 1, 0, 0, 1, 0,\n",
       "       0, 0, 1, 0, 0, 0, 0, 1, 1, 0, 0, 0, 0, 1, 0, 0, 0, 1, 0, 0, 0, 0,\n",
       "       1, 0, 0, 0, 0, 1, 0, 0, 0, 1, 1, 0, 0, 0, 0, 0, 0, 1, 0, 0, 0, 0,\n",
       "       0, 0, 1, 0, 0, 1, 0, 0, 0, 0, 0, 0, 0, 0, 1, 0, 0, 0, 1, 0, 1, 1,\n",
       "       0, 0, 0, 0, 0, 1, 0, 0, 0, 0, 0, 0, 0, 0, 0, 0, 1, 0, 0, 0, 0, 0,\n",
       "       0, 0, 0, 0, 1, 1, 0, 1, 1, 0, 1, 0, 1, 1, 1, 1, 1, 1, 0, 1, 1, 0,\n",
       "       0, 0, 1, 0, 0, 0, 1, 1, 1, 0, 1, 1, 1, 1, 0, 1, 1, 0, 0, 0, 0, 0,\n",
       "       1, 1, 0, 1, 0, 0, 1, 0, 0, 1, 1, 0, 0, 0, 0, 0, 0, 0, 0, 0, 1, 1,\n",
       "       0, 0, 1, 0, 0, 0, 0, 0, 1, 0, 1, 0, 0, 0, 1, 0, 0, 0, 1, 0, 0, 1,\n",
       "       1, 0, 0, 1, 1, 0, 1, 0, 1, 0, 0, 0, 0, 1, 1, 1, 0, 0, 1, 0, 0, 0,\n",
       "       0, 1, 0, 0, 0, 0, 1, 0, 0, 1, 0, 0, 0, 1, 0, 1, 1, 0, 0, 1, 0, 0,\n",
       "       0, 1, 0, 0, 0, 0, 0, 0, 0, 0, 0, 0, 0, 1, 0, 0, 0, 0, 0, 0, 1, 0,\n",
       "       0, 0, 0, 0, 1, 0, 0, 0, 1, 0, 1, 0, 0, 0, 0, 0, 0, 1, 0, 0, 0, 0,\n",
       "       0, 0, 0, 0, 1, 1, 0, 1, 0, 0, 1, 0, 0, 0, 1, 0, 0, 0, 0, 0, 0, 1,\n",
       "       1, 0, 1, 1, 0, 0, 0, 1, 1, 0, 0, 0, 0, 0, 0, 0, 1, 0, 0, 0, 0, 0,\n",
       "       1, 0, 0, 0, 0, 0, 1, 0, 0, 1, 0, 0, 0, 0, 1, 0, 1, 0, 0, 0, 0, 0,\n",
       "       0, 0, 0, 0, 0, 0, 0, 0, 0, 1, 1, 1, 0, 0, 0, 0, 0, 0, 0, 0, 1, 0,\n",
       "       0, 0, 0, 0, 1, 0, 0, 0, 0, 0, 0, 0, 0, 0, 0, 0, 0, 0, 0, 0, 1, 0,\n",
       "       0, 1, 0, 0, 0, 0, 0, 0, 0, 0, 1, 0, 0, 1, 0, 0, 1, 1, 0, 1, 0, 0,\n",
       "       0, 0, 1, 0, 0, 1, 1, 0, 0, 0, 0, 0, 0, 1, 0, 0, 0, 0, 0, 0, 0, 0,\n",
       "       0, 0, 0, 0, 0, 0, 0, 0, 0, 0, 0, 0, 0, 0, 1, 0, 0, 0, 0, 1, 0, 1,\n",
       "       0, 0, 1, 1, 0, 1, 0, 0, 0, 0, 0, 1, 0, 0, 0, 0, 0, 0, 0, 1, 0, 1,\n",
       "       0, 1, 0, 1, 1, 0, 1, 0, 0, 1, 1, 0, 1, 0, 0, 0, 0, 0, 1, 0, 0, 1,\n",
       "       0, 0, 0, 0, 0, 1, 0, 0, 0, 0, 0, 0, 0, 1, 0, 0, 0, 0, 0, 0, 0, 0,\n",
       "       0, 0, 0, 0, 0, 0, 0, 0, 0, 0, 0, 1, 0, 1, 1, 1, 0, 1, 0, 1, 1, 1,\n",
       "       1, 1, 0, 0, 0, 0, 0, 1, 0, 0, 0, 0, 0, 0, 1, 1, 1, 0, 0, 1, 0, 1,\n",
       "       0, 1, 1, 1, 1, 1, 0, 0, 1, 0], dtype=int64)"
      ]
     },
     "execution_count": 5,
     "metadata": {},
     "output_type": "execute_result"
    }
   ],
   "source": [
    "ans"
   ]
  },
  {
   "cell_type": "code",
   "execution_count": 6,
   "metadata": {},
   "outputs": [
    {
     "name": "stdout",
     "output_type": "stream",
     "text": [
      "<class 'pandas.core.frame.DataFrame'>\n",
      "Float64Index: 824 entries, 0.0 to 823.0\n",
      "Data columns (total 1 columns):\n",
      "ans    824 non-null int64\n",
      "dtypes: int64(1)\n",
      "memory usage: 12.9 KB\n"
     ]
    }
   ],
   "source": [
    "output=pd.DataFrame(ans)\n",
    "output[\"id\"]=output.index.astype(float)\n",
    "output.set_index(\"id\",inplace=True)\n",
    "output.rename(columns={0:\"ans\"},inplace=True)\n",
    "output.info()"
   ]
  },
  {
   "cell_type": "code",
   "execution_count": 7,
   "metadata": {},
   "outputs": [],
   "source": [
    "output.to_csv(\"output.csv\")"
   ]
  },
  {
   "cell_type": "code",
   "execution_count": null,
   "metadata": {},
   "outputs": [],
   "source": []
  }
 ],
 "metadata": {
  "kernelspec": {
   "display_name": "Python 3",
   "language": "python",
   "name": "python3"
  },
  "language_info": {
   "codemirror_mode": {
    "name": "ipython",
    "version": 3
   },
   "file_extension": ".py",
   "mimetype": "text/x-python",
   "name": "python",
   "nbconvert_exporter": "python",
   "pygments_lexer": "ipython3",
   "version": "3.7.3"
  }
 },
 "nbformat": 4,
 "nbformat_minor": 2
}
